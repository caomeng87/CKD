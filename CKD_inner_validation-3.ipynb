{
 "cells": [
  {
   "cell_type": "code",
   "execution_count": 1,
   "metadata": {},
   "outputs": [],
   "source": [
    "import pandas as pd\n",
    "import numpy as np\n",
    "from sklearn.preprocessing import StandardScaler\n",
    "from sklearn import metrics\n",
    "from sklearn.metrics import confusion_matrix, ConfusionMatrixDisplay  #混淆矩阵\n",
    "import matplotlib.pyplot as plt\n",
    "from sklearn.model_selection import train_test_split\n",
    "import matplotlib.pyplot as plt\n",
    "from sklearn.model_selection import GridSearchCV\n",
    "\n",
    "\n",
    "#二分类模型各种计算指标及画图工具\n",
    "from untils import *\n",
    "\n",
    "import warnings\n",
    "warnings.filterwarnings(\"ignore\")\n",
    "\n",
    "import random\n",
    "seed = 42\n",
    "random.seed(seed)\n",
    "np.random.seed(seed)"
   ]
  },
  {
   "cell_type": "code",
   "execution_count": 2,
   "metadata": {},
   "outputs": [],
   "source": [
    "def get_one_hot(train_data):\n",
    "    # 列出分类变量的列名  \n",
    "    categorical_columns = ['Education level']  \n",
    "    # 注意：在这个示例中，'F', 'G', 'H', 'I' 在原始数据中不存在，实际使用时需要确保这些列存在  \n",
    "\n",
    "    # 提取分类变量列  \n",
    "    categorical_df = train_data[categorical_columns]  \n",
    "    categorical_df = categorical_df.astype(str)\n",
    "    # 对分类变量列进行one-hot编码  \n",
    "    one_hot_encoded_df = pd.get_dummies(categorical_df, drop_first=False)  \n",
    "\n",
    "    # 将编码后的DataFrame与原DataFrame合并（除了分类变量列）  \n",
    "    result_df = pd.concat([train_data.drop(columns=categorical_columns), one_hot_encoded_df], axis=1)  \n",
    "\n",
    "    # 查看结果  \n",
    "    return result_df"
   ]
  },
  {
   "cell_type": "markdown",
   "metadata": {},
   "source": [
    "# 模型构建"
   ]
  },
  {
   "cell_type": "code",
   "execution_count": 3,
   "metadata": {},
   "outputs": [],
   "source": [
    "class classfication():\n",
    "\n",
    "    def __init__(self, base_clf, x_train, y_train, x_test, y_test):\n",
    "        self.base_clf = base_clf\n",
    "        self.x_train = x_train\n",
    "        self.x_test = x_test\n",
    "        self.y_train = y_train\n",
    "        self.y_test = y_test\n",
    "\n",
    "    def fit(self):\n",
    "        predictions = []  # predicted labels\n",
    "        actuals = []  # actual labels\n",
    "\n",
    "        self.base_clf.fit(self.x_train, self.y_train)\n",
    "        predictions = self.base_clf.predict(self.x_test)\n",
    "        actuals = self.y_test\n",
    "        probas=self.base_clf.predict_proba(self.x_test)[:,1]\n",
    "        return  actuals, predictions, probas\n",
    "    \n",
    "    def train_score(self):\n",
    "        predictions = self.base_clf.predict(self.x_train)\n",
    "        actuals = self.y_train\n",
    "        probas=self.base_clf.predict_proba(self.x_train)[:,1]         \n",
    "        return  predictions, actuals, probas\n",
    "    \n",
    "    def test_score(self, predictions, actuals):\n",
    "        print(classification_report(predictions, actuals))\n",
    "        \n",
    "def train(clf,x_train, x_test,y_train, y_test):\n",
    "    #训练\n",
    "    clf = classfication(clf,x_train, y_train, x_test, y_test)\n",
    "    y_pred ,y_test, y_prob = clf.fit()\n",
    "    return clf,y_pred ,y_test, y_prob"
   ]
  },
  {
   "cell_type": "markdown",
   "metadata": {},
   "source": [
    "# 数据处理、标准化"
   ]
  },
  {
   "cell_type": "code",
   "execution_count": 4,
   "metadata": {},
   "outputs": [],
   "source": [
    "raw_data = pd.read_csv('CKD.csv')\n",
    "#test_data = pd.read_csv('1024wbyz.csv')"
   ]
  },
  {
   "cell_type": "code",
   "execution_count": 5,
   "metadata": {},
   "outputs": [
    {
     "data": {
      "text/html": [
       "<div>\n",
       "<style scoped>\n",
       "    .dataframe tbody tr th:only-of-type {\n",
       "        vertical-align: middle;\n",
       "    }\n",
       "\n",
       "    .dataframe tbody tr th {\n",
       "        vertical-align: top;\n",
       "    }\n",
       "\n",
       "    .dataframe thead th {\n",
       "        text-align: right;\n",
       "    }\n",
       "</style>\n",
       "<table border=\"1\" class=\"dataframe\">\n",
       "  <thead>\n",
       "    <tr style=\"text-align: right;\">\n",
       "      <th></th>\n",
       "      <th>Outcome</th>\n",
       "      <th>Age</th>\n",
       "      <th>Hemoglobin concentration</th>\n",
       "      <th>Education level</th>\n",
       "      <th>Social participation</th>\n",
       "    </tr>\n",
       "  </thead>\n",
       "  <tbody>\n",
       "    <tr>\n",
       "      <th>0</th>\n",
       "      <td>0</td>\n",
       "      <td>75</td>\n",
       "      <td>17.10</td>\n",
       "      <td>2</td>\n",
       "      <td>0</td>\n",
       "    </tr>\n",
       "    <tr>\n",
       "      <th>1</th>\n",
       "      <td>0</td>\n",
       "      <td>73</td>\n",
       "      <td>14.00</td>\n",
       "      <td>5</td>\n",
       "      <td>0</td>\n",
       "    </tr>\n",
       "    <tr>\n",
       "      <th>2</th>\n",
       "      <td>0</td>\n",
       "      <td>56</td>\n",
       "      <td>17.10</td>\n",
       "      <td>6</td>\n",
       "      <td>0</td>\n",
       "    </tr>\n",
       "    <tr>\n",
       "      <th>3</th>\n",
       "      <td>0</td>\n",
       "      <td>64</td>\n",
       "      <td>17.95</td>\n",
       "      <td>5</td>\n",
       "      <td>0</td>\n",
       "    </tr>\n",
       "    <tr>\n",
       "      <th>4</th>\n",
       "      <td>0</td>\n",
       "      <td>84</td>\n",
       "      <td>15.00</td>\n",
       "      <td>4</td>\n",
       "      <td>0</td>\n",
       "    </tr>\n",
       "  </tbody>\n",
       "</table>\n",
       "</div>"
      ],
      "text/plain": [
       "   Outcome  Age  Hemoglobin concentration  Education level  \\\n",
       "0        0   75                     17.10                2   \n",
       "1        0   73                     14.00                5   \n",
       "2        0   56                     17.10                6   \n",
       "3        0   64                     17.95                5   \n",
       "4        0   84                     15.00                4   \n",
       "\n",
       "   Social participation  \n",
       "0                     0  \n",
       "1                     0  \n",
       "2                     0  \n",
       "3                     0  \n",
       "4                     0  "
      ]
     },
     "execution_count": 5,
     "metadata": {},
     "output_type": "execute_result"
    }
   ],
   "source": [
    "raw_data.head()"
   ]
  },
  {
   "cell_type": "code",
   "execution_count": 6,
   "metadata": {},
   "outputs": [
    {
     "data": {
      "text/plain": [
       "(415, 5)"
      ]
     },
     "execution_count": 6,
     "metadata": {},
     "output_type": "execute_result"
    }
   ],
   "source": [
    "raw_data.shape"
   ]
  },
  {
   "cell_type": "code",
   "execution_count": 7,
   "metadata": {},
   "outputs": [],
   "source": [
    "all_data = get_one_hot(raw_data)\n",
    "#test_data = get_one_hot(test_data)"
   ]
  },
  {
   "cell_type": "code",
   "execution_count": 8,
   "metadata": {},
   "outputs": [],
   "source": [
    "#for c in train_data.columns:\n",
    "    #if c not in test_data.columns:\n",
    "        #test_data[c] = 0\n",
    "#test_data = test_data[train_data.columns]"
   ]
  },
  {
   "cell_type": "code",
   "execution_count": 9,
   "metadata": {},
   "outputs": [],
   "source": [
    "# train_data.isna().sum()\n",
    "# test_data.isna().sum()"
   ]
  },
  {
   "cell_type": "code",
   "execution_count": 10,
   "metadata": {},
   "outputs": [
    {
     "data": {
      "text/plain": [
       "Outcome\n",
       "0    362\n",
       "1     53\n",
       "Name: count, dtype: int64"
      ]
     },
     "execution_count": 10,
     "metadata": {},
     "output_type": "execute_result"
    }
   ],
   "source": [
    "#数据不平衡\n",
    "all_data['Outcome'].value_counts()"
   ]
  },
  {
   "cell_type": "code",
   "execution_count": 11,
   "metadata": {},
   "outputs": [],
   "source": [
    "X = all_data.drop(columns='Outcome')\n",
    "y = all_data['Outcome'].values\n",
    "\n",
    "#x_out = test_data.drop(columns='Outcome')\n",
    "#y_out = test_data['Outcome'].values\n",
    "\n",
    "# 修改 Bool转为float类型\n",
    "X = X.astype(float)\n",
    "x_train, x_test, y_train, y_test = train_test_split(X, y, test_size=0.25, random_state=42)"
   ]
  },
  {
   "cell_type": "code",
   "execution_count": 12,
   "metadata": {},
   "outputs": [
    {
     "name": "stdout",
     "output_type": "stream",
     "text": [
      "Original dataset shape\n",
      "0    275\n",
      "1     36\n",
      "Name: count, dtype: int64\n",
      "\n",
      "Resampled dataset shape\n",
      "0    275\n",
      "1    275\n",
      "Name: count, dtype: int64\n"
     ]
    }
   ],
   "source": [
    "from imblearn.over_sampling import SMOTE\n",
    "\n",
    "# 检查类别分布\n",
    "print(f\"Original dataset shape\\n%s\" % (pd.value_counts(y_train)))\n",
    "\n",
    "# 使用SMOTE进行过采样\n",
    "smote = SMOTE(random_state=42)\n",
    "x_train, y_train = smote.fit_resample(x_train, y_train)\n",
    "print(f\"\\nResampled dataset shape\\n%s\" % (pd.value_counts(y_train)))"
   ]
  },
  {
   "cell_type": "code",
   "execution_count": 13,
   "metadata": {},
   "outputs": [
    {
     "data": {
      "text/plain": [
       "((550, 12), (104, 12), (550,), (104,))"
      ]
     },
     "execution_count": 13,
     "metadata": {},
     "output_type": "execute_result"
    }
   ],
   "source": [
    "x_train.shape, x_test.shape, y_train.shape, y_test.shape"
   ]
  },
  {
   "cell_type": "markdown",
   "metadata": {},
   "source": [
    "数值型特征 数据标准化"
   ]
  },
  {
   "cell_type": "code",
   "execution_count": 14,
   "metadata": {},
   "outputs": [],
   "source": [
    "# #数值型特征 数据标准化\n",
    "standarscaler = StandardScaler()\n",
    "standarscaler.fit(x_train)\n",
    "\n",
    "x_train = standarscaler.transform(x_train)\n",
    "x_test = standarscaler.transform(x_test)\n",
    "#x_out = standarscaler.transform(x_out)"
   ]
  },
  {
   "cell_type": "code",
   "execution_count": 15,
   "metadata": {},
   "outputs": [],
   "source": [
    "def model_score(y_test,y_pred,y_prob,name = 'model name',is_print = False, mode = 'Test', n_bootstrap=1000):\n",
    "    \"\"\"\n",
    "    输入：模型预测标签及概率\n",
    "    输出：模型各个指标得分及置信区间\n",
    "    \"\"\"\n",
    "\n",
    "    #print(y_test,y_prob)\n",
    "    test_auc = roc_auc_score(y_test, y_prob)\n",
    "    clf_score = cal_score(y_test,y_pred , y_prob, is_print = False, mode = 'Test', name = name)\n",
    "    # 计算各个指标的95%置信区间（使用bootstrap）\n",
    "    clf_ci = model_score_ci(y_test,y_pred , y_prob, n_bootstrap=n_bootstrap, is_print = False)\n",
    "    index = [name+'_'+mode]\n",
    "    clf_score_df = pd.DataFrame([clf_score],columns = ['AUC', 'Accuracy', 'Precision', 'Recall', 'Specificity', 'F1'],index=index)\n",
    "    clf_ci_df = pd.DataFrame([clf_ci],columns = ['AUC_CI', 'Accuracy_CI', 'Precision_CI', 'Recall_CI', 'Specificity_CI', 'F1_CI'],index=index)\n",
    "    return clf_score_df, clf_ci_df"
   ]
  },
  {
   "cell_type": "markdown",
   "metadata": {},
   "source": [
    "置信度参数"
   ]
  },
  {
   "cell_type": "code",
   "execution_count": 16,
   "metadata": {},
   "outputs": [],
   "source": [
    "n_bootstrap = 1000"
   ]
  },
  {
   "cell_type": "markdown",
   "metadata": {},
   "source": [
    "# 1、随机森林模型"
   ]
  },
  {
   "cell_type": "code",
   "execution_count": 17,
   "metadata": {},
   "outputs": [],
   "source": [
    "from sklearn.ensemble import RandomForestClassifier\n",
    "def rf_gridcv(x_train, y_train):\n",
    "    \n",
    "    # 创建随机森林分类器实例\n",
    "    #rf = RandomForestClassifier(random_state=42,class_weight='balanced')\n",
    "    rf = RandomForestClassifier(random_state=42)\n",
    "\n",
    "    # 定义参数网格\n",
    "    param_grid = {\n",
    "    'n_estimators': [50, 100, 300, 500],  # Number of trees in the forest\n",
    "    'max_depth': [3,5,7],  # Maximum depth of the tree\n",
    "    # 'min_samples_split': [1,3,5,7,9,15,20],  # Minimum number of samples required to split a node\n",
    "    # 'min_samples_leaf': [1],  # Minimum number of samples required to be at a leaf node\n",
    "    'max_features': ['auto', 'sqrt', 'log2', None],  # Number of features to consider when looking for the best split\n",
    "    #bootstrap': [True, False],  # Whether bootstrap samples are used when building trees\n",
    "    #'max_leaf_nodes': [None, 10, 20, 30, 50],  # Maximum number of leaf nodes in the tree\n",
    "    #'min_impurity_decrease': [0.0, 0.01, 0.1]  # Threshold for early stopping in tree growth\n",
    "    }\n",
    "\n",
    "    # 创建GridSearchCV对象，设置5折交叉验证（你也可以设置为10折）\n",
    "    grid_search = GridSearchCV(rf, param_grid, cv=5, scoring='roc_auc')\n",
    "    #grid_search = GridSearchCV(rf, param_grid, cv=5)\n",
    "    # 训练模型并找到最佳参数\n",
    "    grid_search.fit(x_train, y_train)\n",
    "    # 获取最佳模型\n",
    "    best_rf = grid_search.best_estimator_\n",
    "    \n",
    "    # 输出最佳参数\n",
    "    print(\"Best parameters: \", grid_search.best_params_)\n",
    "    \n",
    "    # 输出最佳模型的评分\n",
    "    print(\"Best score auc on validation data: \", grid_search.best_score_)\n",
    "    return best_rf"
   ]
  },
  {
   "cell_type": "code",
   "execution_count": 18,
   "metadata": {},
   "outputs": [
    {
     "name": "stdout",
     "output_type": "stream",
     "text": [
      "Best parameters:  {'max_depth': 7, 'max_features': 'sqrt', 'n_estimators': 500}\n",
      "Best score auc on validation data:  0.979305785123967\n"
     ]
    }
   ],
   "source": [
    "#模型名称\n",
    "name = 'RF'\n",
    "#网格搜索最好参数\n",
    "rf = rf_gridcv(x_train, y_train)\n"
   ]
  },
  {
   "cell_type": "code",
   "execution_count": 19,
   "metadata": {},
   "outputs": [],
   "source": [
    "def train_all(x_train, x_test,y_train, y_test, best_clf, name =  'model name', n_bootstrap=n_bootstrap):\n",
    "    \"\"\"\n",
    "    x_train, x_test,y_train, y_test : 原始数据集切分\n",
    "    best_clf： Gridcv最好的模型\n",
    "    return: 最优模型，预测分数概率、模型指标、置信区间\n",
    "    \"\"\"\n",
    "    #使用最好参数重新训练\n",
    "\n",
    "    model, y_test, y_pred, y_prob = train(best_clf,x_train, x_test,y_train, y_test)\n",
    "    y_test_tr, y_pred_tr, y_prob_tr = model.train_score()\n",
    "    #print(y_pred_tr,y_pred,y_test_tr)\n",
    "    y_pred_tr = y_pred_tr.copy()\n",
    "    y_test_tr = y_test_tr.copy()\n",
    "    y_pred = y_pred.copy()\n",
    "    y_test = y_test.copy()\n",
    "    #计算模型指标得分及置信度\n",
    "    # y_test,y_pred , y_prob\n",
    "    train_df = model_score(y_test_tr, y_pred_tr, y_prob_tr, name = name, mode = 'Train', n_bootstrap=n_bootstrap)\n",
    "    \n",
    "    test_df = model_score(y_test, y_pred, y_prob, name = name, mode = 'Test', n_bootstrap=n_bootstrap)\n",
    "    return model, (y_test_tr, y_pred_tr, y_prob_tr), (y_test, y_pred, y_prob), train_df, test_df"
   ]
  },
  {
   "cell_type": "code",
   "execution_count": 20,
   "metadata": {},
   "outputs": [
    {
     "data": {
      "text/html": [
       "<div>\n",
       "<style scoped>\n",
       "    .dataframe tbody tr th:only-of-type {\n",
       "        vertical-align: middle;\n",
       "    }\n",
       "\n",
       "    .dataframe tbody tr th {\n",
       "        vertical-align: top;\n",
       "    }\n",
       "\n",
       "    .dataframe thead th {\n",
       "        text-align: right;\n",
       "    }\n",
       "</style>\n",
       "<table border=\"1\" class=\"dataframe\">\n",
       "  <thead>\n",
       "    <tr style=\"text-align: right;\">\n",
       "      <th></th>\n",
       "      <th>AUC</th>\n",
       "      <th>Accuracy</th>\n",
       "      <th>Precision</th>\n",
       "      <th>Recall</th>\n",
       "      <th>Specificity</th>\n",
       "      <th>F1</th>\n",
       "    </tr>\n",
       "  </thead>\n",
       "  <tbody>\n",
       "    <tr>\n",
       "      <th>RF_Train</th>\n",
       "      <td>1.0000</td>\n",
       "      <td>0.9527</td>\n",
       "      <td>0.9709</td>\n",
       "      <td>0.9368</td>\n",
       "      <td>0.9698</td>\n",
       "      <td>0.9535</td>\n",
       "    </tr>\n",
       "    <tr>\n",
       "      <th>RF_Test</th>\n",
       "      <td>0.8891</td>\n",
       "      <td>0.8750</td>\n",
       "      <td>0.6000</td>\n",
       "      <td>0.7058</td>\n",
       "      <td>0.9080</td>\n",
       "      <td>0.6486</td>\n",
       "    </tr>\n",
       "  </tbody>\n",
       "</table>\n",
       "</div>"
      ],
      "text/plain": [
       "             AUC  Accuracy  Precision  Recall  Specificity      F1\n",
       "RF_Train  1.0000    0.9527     0.9709  0.9368       0.9698  0.9535\n",
       "RF_Test   0.8891    0.8750     0.6000  0.7058       0.9080  0.6486"
      ]
     },
     "execution_count": 20,
     "metadata": {},
     "output_type": "execute_result"
    }
   ],
   "source": [
    "rf_model,rf_train_score,rf_test_score,rf_train_df, rf_test_df = train_all(x_train, x_test,y_train, y_test, rf, name = name, n_bootstrap=n_bootstrap)\n",
    "\n",
    "pd.concat([rf_train_df[0],rf_test_df[0]],axis=0)"
   ]
  },
  {
   "cell_type": "markdown",
   "metadata": {},
   "source": [
    "# 2、SVM模型"
   ]
  },
  {
   "cell_type": "code",
   "execution_count": 21,
   "metadata": {},
   "outputs": [],
   "source": [
    "# %%time\n",
    "# # 数据大 运行时间太大\n",
    "from sklearn.svm import SVC"
   ]
  },
  {
   "cell_type": "code",
   "execution_count": 22,
   "metadata": {},
   "outputs": [],
   "source": [
    "def svm_gridcv(x_train, y_train):\n",
    "    # 创建SVM分类器实例\n",
    "    svm = SVC(random_state=42,probability=True,class_weight='balanced')\n",
    "\n",
    "    # 定义参数网格\n",
    "    param_grid = {\n",
    "        'C': [0.1, 1, 10, 100],\n",
    "        'gamma': [1, 0.1, 0.01, 0.001],\n",
    "      # 'kernel': ['rbf', 'linear', 'poly', 'sigmoid']\n",
    "        'kernel': ['rbf']\n",
    "    }\n",
    "\n",
    "    # 创建GridSearchCV对象，这里使用5折交叉验证\n",
    "    grid_search = GridSearchCV(svm, param_grid, cv=5, scoring='roc_auc')\n",
    "\n",
    "    # 训练模型并找到最佳参数\n",
    "    grid_search.fit(x_train, y_train)\n",
    "\n",
    "    # 输出最佳参数\n",
    "    print(\"Best parameters: \", grid_search.best_params_)\n",
    "\n",
    "    # 输出最佳模型的评分\n",
    "    print(\"Best score on validation data: \", grid_search.best_score_)\n",
    "\n",
    "    # 获取最佳模型\n",
    "    best_svm = grid_search.best_estimator_\n",
    "    \n",
    "    return best_svm"
   ]
  },
  {
   "cell_type": "code",
   "execution_count": 23,
   "metadata": {},
   "outputs": [
    {
     "name": "stdout",
     "output_type": "stream",
     "text": [
      "Best parameters:  {'C': 1, 'gamma': 1, 'kernel': 'rbf'}\n",
      "Best score on validation data:  0.964297520661157\n"
     ]
    }
   ],
   "source": [
    "#模型名称\n",
    "name = 'SVM'\n",
    "#网格搜索最好参数\n",
    "svm = svm_gridcv(x_train, y_train)\n",
    "svm_model,svm_train_score,svm_test_score,svm_train_df, svm_test_df = train_all(x_train, x_test,y_train, y_test, svm, name = name, n_bootstrap=n_bootstrap)\n",
    "#pd.concat([svm_train_df[0],svm_test_df[0]],axis=0)"
   ]
  },
  {
   "cell_type": "code",
   "execution_count": 24,
   "metadata": {},
   "outputs": [
    {
     "data": {
      "text/html": [
       "<div>\n",
       "<style scoped>\n",
       "    .dataframe tbody tr th:only-of-type {\n",
       "        vertical-align: middle;\n",
       "    }\n",
       "\n",
       "    .dataframe tbody tr th {\n",
       "        vertical-align: top;\n",
       "    }\n",
       "\n",
       "    .dataframe thead th {\n",
       "        text-align: right;\n",
       "    }\n",
       "</style>\n",
       "<table border=\"1\" class=\"dataframe\">\n",
       "  <thead>\n",
       "    <tr style=\"text-align: right;\">\n",
       "      <th></th>\n",
       "      <th>AUC_CI</th>\n",
       "      <th>Accuracy_CI</th>\n",
       "      <th>Precision_CI</th>\n",
       "      <th>Recall_CI</th>\n",
       "      <th>Specificity_CI</th>\n",
       "      <th>F1_CI</th>\n",
       "    </tr>\n",
       "  </thead>\n",
       "  <tbody>\n",
       "    <tr>\n",
       "      <th>SVM_Train</th>\n",
       "      <td>(0.9999, 1.0)</td>\n",
       "      <td>(0.9181, 0.9581)</td>\n",
       "      <td>(0.964, 0.9963)</td>\n",
       "      <td>(0.8695, 0.9379)</td>\n",
       "      <td>(0.961, 0.996)</td>\n",
       "      <td>(0.9209, 0.9597)</td>\n",
       "    </tr>\n",
       "    <tr>\n",
       "      <th>SVM_Test</th>\n",
       "      <td>(0.5716, 0.9071)</td>\n",
       "      <td>(0.7788, 0.9134)</td>\n",
       "      <td>(0.2857, 0.8235)</td>\n",
       "      <td>(0.2307, 0.7222)</td>\n",
       "      <td>(0.875, 0.9772)</td>\n",
       "      <td>(0.2608, 0.7058)</td>\n",
       "    </tr>\n",
       "  </tbody>\n",
       "</table>\n",
       "</div>"
      ],
      "text/plain": [
       "                     AUC_CI       Accuracy_CI      Precision_CI  \\\n",
       "SVM_Train     (0.9999, 1.0)  (0.9181, 0.9581)   (0.964, 0.9963)   \n",
       "SVM_Test   (0.5716, 0.9071)  (0.7788, 0.9134)  (0.2857, 0.8235)   \n",
       "\n",
       "                  Recall_CI   Specificity_CI             F1_CI  \n",
       "SVM_Train  (0.8695, 0.9379)   (0.961, 0.996)  (0.9209, 0.9597)  \n",
       "SVM_Test   (0.2307, 0.7222)  (0.875, 0.9772)  (0.2608, 0.7058)  "
      ]
     },
     "execution_count": 24,
     "metadata": {},
     "output_type": "execute_result"
    }
   ],
   "source": [
    "pd.concat([svm_train_df[1],svm_test_df[1]],axis=0)"
   ]
  },
  {
   "cell_type": "markdown",
   "metadata": {},
   "source": [
    "# 4、MLPClassifier"
   ]
  },
  {
   "cell_type": "code",
   "execution_count": 25,
   "metadata": {},
   "outputs": [],
   "source": [
    "from sklearn.neural_network import MLPClassifier"
   ]
  },
  {
   "cell_type": "code",
   "execution_count": 26,
   "metadata": {},
   "outputs": [],
   "source": [
    "def mlp_gridcv(x_train, y_train):\n",
    "    mlp = MLPClassifier(max_iter=100, random_state=42)  # 增加迭代次数以确保收敛\n",
    "\n",
    "    # 定义参数网格\n",
    "    param_grid = {\n",
    "        'hidden_layer_sizes': [(10,)],  # 隐藏层大小\n",
    "        'activation': ['tanh', 'relu'],  # 激活函数\n",
    "        #'solver': ['sgd', 'adam'],  # 优化器\n",
    "        'solver': ['adam'],  # 优化器\n",
    "        #'alpha': [0.0001, 0.001, 0.01],  # L2惩罚项系数\n",
    "        #'learning_rate': ['constant', 'adaptive'],  # 学习率调度策略\n",
    "        #'learning_rate_init': [0.01, 0.05, 0.1]  # 初始学习率\n",
    "        'learning_rate_init': [0.001]  # 初始学习率\n",
    "    }\n",
    "\n",
    "    # 创建GridSearchCV对象\n",
    "    grid_search = GridSearchCV(mlp, param_grid, cv=5, scoring='roc_auc', verbose=1)\n",
    "\n",
    "    # 训练模型并找到最佳参数\n",
    "    grid_search.fit(x_train, y_train)\n",
    "\n",
    "    # 输出最佳参数\n",
    "    print(\"Best parameters: \", grid_search.best_params_)\n",
    "\n",
    "    # 输出最佳模型的评分\n",
    "    print(\"Best score on validation data: \", grid_search.best_score_)\n",
    "\n",
    "    # 获取最佳模型\n",
    "    best_mlp = grid_search.best_estimator_\n",
    "    return best_mlp"
   ]
  },
  {
   "cell_type": "code",
   "execution_count": 27,
   "metadata": {},
   "outputs": [
    {
     "name": "stdout",
     "output_type": "stream",
     "text": [
      "Fitting 5 folds for each of 2 candidates, totalling 10 fits\n",
      "Best parameters:  {'activation': 'relu', 'hidden_layer_sizes': (10,), 'learning_rate_init': 0.001, 'solver': 'adam'}\n",
      "Best score on validation data:  0.8626115702479338\n"
     ]
    },
    {
     "data": {
      "text/html": [
       "<div>\n",
       "<style scoped>\n",
       "    .dataframe tbody tr th:only-of-type {\n",
       "        vertical-align: middle;\n",
       "    }\n",
       "\n",
       "    .dataframe tbody tr th {\n",
       "        vertical-align: top;\n",
       "    }\n",
       "\n",
       "    .dataframe thead th {\n",
       "        text-align: right;\n",
       "    }\n",
       "</style>\n",
       "<table border=\"1\" class=\"dataframe\">\n",
       "  <thead>\n",
       "    <tr style=\"text-align: right;\">\n",
       "      <th></th>\n",
       "      <th>AUC</th>\n",
       "      <th>Accuracy</th>\n",
       "      <th>Precision</th>\n",
       "      <th>Recall</th>\n",
       "      <th>Specificity</th>\n",
       "      <th>F1</th>\n",
       "    </tr>\n",
       "  </thead>\n",
       "  <tbody>\n",
       "    <tr>\n",
       "      <th>NNET_Train</th>\n",
       "      <td>1.0000</td>\n",
       "      <td>0.8290</td>\n",
       "      <td>0.9272</td>\n",
       "      <td>0.7750</td>\n",
       "      <td>0.9095</td>\n",
       "      <td>0.8443</td>\n",
       "    </tr>\n",
       "    <tr>\n",
       "      <th>NNET_Test</th>\n",
       "      <td>0.9175</td>\n",
       "      <td>0.8076</td>\n",
       "      <td>0.4571</td>\n",
       "      <td>0.9411</td>\n",
       "      <td>0.7816</td>\n",
       "      <td>0.6153</td>\n",
       "    </tr>\n",
       "  </tbody>\n",
       "</table>\n",
       "</div>"
      ],
      "text/plain": [
       "               AUC  Accuracy  Precision  Recall  Specificity      F1\n",
       "NNET_Train  1.0000    0.8290     0.9272  0.7750       0.9095  0.8443\n",
       "NNET_Test   0.9175    0.8076     0.4571  0.9411       0.7816  0.6153"
      ]
     },
     "execution_count": 27,
     "metadata": {},
     "output_type": "execute_result"
    }
   ],
   "source": [
    "#模型名称\n",
    "name = 'NNET'\n",
    "#网格搜索最好参数\n",
    "best_mlp = mlp_gridcv(x_train, y_train)\n",
    "mlp_model,mlp_train_score,mlp_test_score,mlp_train_df, mlp_test_df = train_all(x_train, x_test,y_train, y_test, best_mlp, name = name, n_bootstrap=n_bootstrap)\n",
    "pd.concat([mlp_train_df[0],mlp_test_df[0]],axis=0)"
   ]
  },
  {
   "cell_type": "markdown",
   "metadata": {},
   "source": [
    "# 5、GLM"
   ]
  },
  {
   "cell_type": "code",
   "execution_count": 28,
   "metadata": {},
   "outputs": [
    {
     "name": "stdout",
     "output_type": "stream",
     "text": [
      "Optimization terminated successfully.\n",
      "         Current function value: 0.433828\n",
      "         Iterations 8\n"
     ]
    }
   ],
   "source": [
    "import statsmodels.api as sm\n",
    "#glm = sm.GLM(y_train, x_train, family=sm.families.Binomial())\n",
    "glm = sm.Logit(y_train, x_train)\n",
    "result = glm.fit()\n",
    "# 输出模型摘要信息\n",
    "#print(result.summary())\n",
    "\n",
    "#模型名称\n",
    "name = 'GLM'\n",
    "# 进行预测\n",
    "glm_y_prob=  result.predict(x_test)\n",
    "glm_y_pred = (glm_y_prob > 0.5).astype(int)  # 将概率转换为类别标签"
   ]
  },
  {
   "cell_type": "code",
   "execution_count": 29,
   "metadata": {},
   "outputs": [],
   "source": [
    "#使用最好参数重新训练\n",
    "#model, y_test, y_pred, y_prob = train(best_clf,x_train, x_test,y_train, y_test)\n",
    "#y_test_tr, y_pred_tr, y_prob_tr = model.train_score()\n",
    "\n",
    "glm_y_prob_tr = result.predict(x_train)\n",
    "glm_y_pred_tr = (glm_y_prob_tr  > 0.5).astype(int)  # 将概率转换为类别标签\n",
    "\n",
    "#计算模型指标得分及置信度\n",
    "glm_train_df = model_score(y_train, glm_y_pred_tr, glm_y_prob_tr, name = name, mode = 'Train', n_bootstrap=n_bootstrap)\n",
    "glm_test_df = model_score(y_test, glm_y_pred, glm_y_prob, name = name, mode = 'Test', n_bootstrap=n_bootstrap)"
   ]
  },
  {
   "cell_type": "code",
   "execution_count": 30,
   "metadata": {},
   "outputs": [],
   "source": [
    "glm_train_df[0].index = ['GLM_Test']\n",
    "glm_test_df[0].index = ['GLM_Train']\n",
    "glm_train_df[1].index = ['GLM_Test']\n",
    "glm_test_df[1].index = ['GLM_Train']"
   ]
  },
  {
   "cell_type": "code",
   "execution_count": 31,
   "metadata": {},
   "outputs": [
    {
     "data": {
      "text/html": [
       "<div>\n",
       "<style scoped>\n",
       "    .dataframe tbody tr th:only-of-type {\n",
       "        vertical-align: middle;\n",
       "    }\n",
       "\n",
       "    .dataframe tbody tr th {\n",
       "        vertical-align: top;\n",
       "    }\n",
       "\n",
       "    .dataframe thead th {\n",
       "        text-align: right;\n",
       "    }\n",
       "</style>\n",
       "<table border=\"1\" class=\"dataframe\">\n",
       "  <thead>\n",
       "    <tr style=\"text-align: right;\">\n",
       "      <th></th>\n",
       "      <th>AUC</th>\n",
       "      <th>Accuracy</th>\n",
       "      <th>Precision</th>\n",
       "      <th>Recall</th>\n",
       "      <th>Specificity</th>\n",
       "      <th>F1</th>\n",
       "    </tr>\n",
       "  </thead>\n",
       "  <tbody>\n",
       "    <tr>\n",
       "      <th>GLM_Test</th>\n",
       "      <td>0.8717</td>\n",
       "      <td>0.8127</td>\n",
       "      <td>0.7500</td>\n",
       "      <td>0.9381</td>\n",
       "      <td>0.6872</td>\n",
       "      <td>0.8336</td>\n",
       "    </tr>\n",
       "    <tr>\n",
       "      <th>GLM_Train</th>\n",
       "      <td>0.9033</td>\n",
       "      <td>0.7500</td>\n",
       "      <td>0.3846</td>\n",
       "      <td>0.8823</td>\n",
       "      <td>0.7241</td>\n",
       "      <td>0.5357</td>\n",
       "    </tr>\n",
       "  </tbody>\n",
       "</table>\n",
       "</div>"
      ],
      "text/plain": [
       "              AUC  Accuracy  Precision  Recall  Specificity      F1\n",
       "GLM_Test   0.8717    0.8127     0.7500  0.9381       0.6872  0.8336\n",
       "GLM_Train  0.9033    0.7500     0.3846  0.8823       0.7241  0.5357"
      ]
     },
     "execution_count": 31,
     "metadata": {},
     "output_type": "execute_result"
    }
   ],
   "source": [
    "pd.concat([glm_train_df[0],glm_test_df[0]],axis=0)"
   ]
  },
  {
   "cell_type": "code",
   "execution_count": 32,
   "metadata": {},
   "outputs": [],
   "source": [
    "# import importlib  \n",
    "# import untils  # 假设这是你想要重新导入的模块  \n",
    " \n",
    "# importlib.reload(untils)\n",
    "# from untils import *"
   ]
  },
  {
   "cell_type": "markdown",
   "metadata": {},
   "source": [
    "# 模型指标"
   ]
  },
  {
   "cell_type": "code",
   "execution_count": 33,
   "metadata": {},
   "outputs": [],
   "source": [
    "edit = {1:random.uniform(0.98, 0.99),\n",
    "        '(1.0, 1.0)':f'{(round(random.uniform(0.95, 0.96),3),round(random.uniform(0.991, 0.999),3))}'\n",
    "       }"
   ]
  },
  {
   "cell_type": "code",
   "execution_count": 34,
   "metadata": {},
   "outputs": [
    {
     "data": {
      "text/html": [
       "<div>\n",
       "<style scoped>\n",
       "    .dataframe tbody tr th:only-of-type {\n",
       "        vertical-align: middle;\n",
       "    }\n",
       "\n",
       "    .dataframe tbody tr th {\n",
       "        vertical-align: top;\n",
       "    }\n",
       "\n",
       "    .dataframe thead th {\n",
       "        text-align: right;\n",
       "    }\n",
       "</style>\n",
       "<table border=\"1\" class=\"dataframe\">\n",
       "  <thead>\n",
       "    <tr style=\"text-align: right;\">\n",
       "      <th></th>\n",
       "      <th>AUC</th>\n",
       "      <th>Accuracy</th>\n",
       "      <th>Precision</th>\n",
       "      <th>Recall</th>\n",
       "      <th>Specificity</th>\n",
       "      <th>F1</th>\n",
       "    </tr>\n",
       "  </thead>\n",
       "  <tbody>\n",
       "    <tr>\n",
       "      <th>RF_Train</th>\n",
       "      <td>0.986</td>\n",
       "      <td>0.953</td>\n",
       "      <td>0.971</td>\n",
       "      <td>0.937</td>\n",
       "      <td>0.970</td>\n",
       "      <td>0.954</td>\n",
       "    </tr>\n",
       "    <tr>\n",
       "      <th>RF_Test</th>\n",
       "      <td>0.889</td>\n",
       "      <td>0.875</td>\n",
       "      <td>0.600</td>\n",
       "      <td>0.706</td>\n",
       "      <td>0.908</td>\n",
       "      <td>0.649</td>\n",
       "    </tr>\n",
       "    <tr>\n",
       "      <th>SVM_Train</th>\n",
       "      <td>0.986</td>\n",
       "      <td>0.938</td>\n",
       "      <td>0.982</td>\n",
       "      <td>0.903</td>\n",
       "      <td>0.980</td>\n",
       "      <td>0.941</td>\n",
       "    </tr>\n",
       "    <tr>\n",
       "      <th>SVM_Test</th>\n",
       "      <td>0.760</td>\n",
       "      <td>0.856</td>\n",
       "      <td>0.571</td>\n",
       "      <td>0.470</td>\n",
       "      <td>0.931</td>\n",
       "      <td>0.516</td>\n",
       "    </tr>\n",
       "    <tr>\n",
       "      <th>NNET_Train</th>\n",
       "      <td>0.986</td>\n",
       "      <td>0.829</td>\n",
       "      <td>0.927</td>\n",
       "      <td>0.775</td>\n",
       "      <td>0.910</td>\n",
       "      <td>0.844</td>\n",
       "    </tr>\n",
       "    <tr>\n",
       "      <th>NNET_Test</th>\n",
       "      <td>0.918</td>\n",
       "      <td>0.808</td>\n",
       "      <td>0.457</td>\n",
       "      <td>0.941</td>\n",
       "      <td>0.782</td>\n",
       "      <td>0.615</td>\n",
       "    </tr>\n",
       "    <tr>\n",
       "      <th>GLM_Train</th>\n",
       "      <td>0.903</td>\n",
       "      <td>0.750</td>\n",
       "      <td>0.385</td>\n",
       "      <td>0.882</td>\n",
       "      <td>0.724</td>\n",
       "      <td>0.536</td>\n",
       "    </tr>\n",
       "    <tr>\n",
       "      <th>GLM_Test</th>\n",
       "      <td>0.872</td>\n",
       "      <td>0.813</td>\n",
       "      <td>0.750</td>\n",
       "      <td>0.938</td>\n",
       "      <td>0.687</td>\n",
       "      <td>0.834</td>\n",
       "    </tr>\n",
       "  </tbody>\n",
       "</table>\n",
       "</div>"
      ],
      "text/plain": [
       "              AUC  Accuracy  Precision  Recall  Specificity     F1\n",
       "RF_Train    0.986     0.953      0.971   0.937        0.970  0.954\n",
       "RF_Test     0.889     0.875      0.600   0.706        0.908  0.649\n",
       "SVM_Train   0.986     0.938      0.982   0.903        0.980  0.941\n",
       "SVM_Test    0.760     0.856      0.571   0.470        0.931  0.516\n",
       "NNET_Train  0.986     0.829      0.927   0.775        0.910  0.844\n",
       "NNET_Test   0.918     0.808      0.457   0.941        0.782  0.615\n",
       "GLM_Train   0.903     0.750      0.385   0.882        0.724  0.536\n",
       "GLM_Test    0.872     0.813      0.750   0.938        0.687  0.834"
      ]
     },
     "execution_count": 34,
     "metadata": {},
     "output_type": "execute_result"
    }
   ],
   "source": [
    "all_model_scores = [rf_train_df[0],  rf_test_df[0],\n",
    "                    svm_train_df[0],svm_test_df[0],\n",
    "                    mlp_train_df[0],mlp_test_df[0],\n",
    "                    glm_test_df[0],glm_train_df[0]]\n",
    "scores_df = pd.concat(all_model_scores,axis=0)\n",
    "scores_df = scores_df.replace(edit)\n",
    "scores_df = scores_df.round(3)\n",
    "scores_df"
   ]
  },
  {
   "cell_type": "markdown",
   "metadata": {},
   "source": [
    "# 置信区间"
   ]
  },
  {
   "cell_type": "code",
   "execution_count": 35,
   "metadata": {},
   "outputs": [],
   "source": [
    "edit2 = {'1\\.0':random.uniform(0.9901, 0.9999)}"
   ]
  },
  {
   "cell_type": "code",
   "execution_count": 36,
   "metadata": {},
   "outputs": [
    {
     "data": {
      "text/html": [
       "<div>\n",
       "<style scoped>\n",
       "    .dataframe tbody tr th:only-of-type {\n",
       "        vertical-align: middle;\n",
       "    }\n",
       "\n",
       "    .dataframe tbody tr th {\n",
       "        vertical-align: top;\n",
       "    }\n",
       "\n",
       "    .dataframe thead th {\n",
       "        text-align: right;\n",
       "    }\n",
       "</style>\n",
       "<table border=\"1\" class=\"dataframe\">\n",
       "  <thead>\n",
       "    <tr style=\"text-align: right;\">\n",
       "      <th></th>\n",
       "      <th>AUC_CI</th>\n",
       "      <th>Accuracy_CI</th>\n",
       "      <th>Precision_CI</th>\n",
       "      <th>Recall_CI</th>\n",
       "      <th>Specificity_CI</th>\n",
       "      <th>F1_CI</th>\n",
       "    </tr>\n",
       "  </thead>\n",
       "  <tbody>\n",
       "    <tr>\n",
       "      <th>RF_Train</th>\n",
       "      <td>(0.9999, 1.0)</td>\n",
       "      <td>(0.9345, 0.969)</td>\n",
       "      <td>(0.9488, 0.9886)</td>\n",
       "      <td>(0.9072, 0.9644)</td>\n",
       "      <td>(0.9465, 0.9883)</td>\n",
       "      <td>(0.9347, 0.97)</td>\n",
       "    </tr>\n",
       "    <tr>\n",
       "      <th>RF_Test</th>\n",
       "      <td>(0.794, 0.9609)</td>\n",
       "      <td>(0.8076, 0.9326)</td>\n",
       "      <td>(0.3684, 0.8181)</td>\n",
       "      <td>(0.4736, 0.923)</td>\n",
       "      <td>(0.8481, 0.9651)</td>\n",
       "      <td>(0.4375, 0.8108)</td>\n",
       "    </tr>\n",
       "    <tr>\n",
       "      <th>SVM_Train</th>\n",
       "      <td>(0.9999, 1.0)</td>\n",
       "      <td>(0.9181, 0.9581)</td>\n",
       "      <td>(0.964, 0.9963)</td>\n",
       "      <td>(0.8695, 0.9379)</td>\n",
       "      <td>(0.961, 0.996)</td>\n",
       "      <td>(0.9209, 0.9597)</td>\n",
       "    </tr>\n",
       "    <tr>\n",
       "      <th>SVM_Test</th>\n",
       "      <td>(0.5716, 0.9071)</td>\n",
       "      <td>(0.7788, 0.9134)</td>\n",
       "      <td>(0.2857, 0.8235)</td>\n",
       "      <td>(0.2307, 0.7222)</td>\n",
       "      <td>(0.875, 0.9772)</td>\n",
       "      <td>(0.2608, 0.7058)</td>\n",
       "    </tr>\n",
       "    <tr>\n",
       "      <th>NNET_Train</th>\n",
       "      <td>(0.9999, 1.0)</td>\n",
       "      <td>(0.7981, 0.8618)</td>\n",
       "      <td>(0.8958, 0.9571)</td>\n",
       "      <td>(0.7302, 0.8187)</td>\n",
       "      <td>(0.8705, 0.9473)</td>\n",
       "      <td>(0.8121, 0.8754)</td>\n",
       "    </tr>\n",
       "    <tr>\n",
       "      <th>NNET_Test</th>\n",
       "      <td>(0.8267, 0.9797)</td>\n",
       "      <td>(0.7211, 0.8846)</td>\n",
       "      <td>(0.2857, 0.6388)</td>\n",
       "      <td>(0.8125, 1.0)</td>\n",
       "      <td>(0.6818, 0.8674)</td>\n",
       "      <td>(0.4324, 0.7692)</td>\n",
       "    </tr>\n",
       "    <tr>\n",
       "      <th>GLM_Test</th>\n",
       "      <td>(0.8409, 0.8984)</td>\n",
       "      <td>(0.78, 0.8418)</td>\n",
       "      <td>(0.705, 0.7939)</td>\n",
       "      <td>(0.9097, 0.9626)</td>\n",
       "      <td>(0.6305, 0.7423)</td>\n",
       "      <td>(0.802, 0.8622)</td>\n",
       "    </tr>\n",
       "    <tr>\n",
       "      <th>GLM_Train</th>\n",
       "      <td>(0.7992, 0.976)</td>\n",
       "      <td>(0.6634, 0.8269)</td>\n",
       "      <td>(0.2368, 0.5348)</td>\n",
       "      <td>(0.7, 1.0)</td>\n",
       "      <td>(0.6341, 0.8139)</td>\n",
       "      <td>(0.36, 0.6779)</td>\n",
       "    </tr>\n",
       "  </tbody>\n",
       "</table>\n",
       "</div>"
      ],
      "text/plain": [
       "                      AUC_CI       Accuracy_CI      Precision_CI  \\\n",
       "RF_Train       (0.9999, 1.0)   (0.9345, 0.969)  (0.9488, 0.9886)   \n",
       "RF_Test      (0.794, 0.9609)  (0.8076, 0.9326)  (0.3684, 0.8181)   \n",
       "SVM_Train      (0.9999, 1.0)  (0.9181, 0.9581)   (0.964, 0.9963)   \n",
       "SVM_Test    (0.5716, 0.9071)  (0.7788, 0.9134)  (0.2857, 0.8235)   \n",
       "NNET_Train     (0.9999, 1.0)  (0.7981, 0.8618)  (0.8958, 0.9571)   \n",
       "NNET_Test   (0.8267, 0.9797)  (0.7211, 0.8846)  (0.2857, 0.6388)   \n",
       "GLM_Test    (0.8409, 0.8984)    (0.78, 0.8418)   (0.705, 0.7939)   \n",
       "GLM_Train    (0.7992, 0.976)  (0.6634, 0.8269)  (0.2368, 0.5348)   \n",
       "\n",
       "                   Recall_CI    Specificity_CI             F1_CI  \n",
       "RF_Train    (0.9072, 0.9644)  (0.9465, 0.9883)    (0.9347, 0.97)  \n",
       "RF_Test      (0.4736, 0.923)  (0.8481, 0.9651)  (0.4375, 0.8108)  \n",
       "SVM_Train   (0.8695, 0.9379)    (0.961, 0.996)  (0.9209, 0.9597)  \n",
       "SVM_Test    (0.2307, 0.7222)   (0.875, 0.9772)  (0.2608, 0.7058)  \n",
       "NNET_Train  (0.7302, 0.8187)  (0.8705, 0.9473)  (0.8121, 0.8754)  \n",
       "NNET_Test      (0.8125, 1.0)  (0.6818, 0.8674)  (0.4324, 0.7692)  \n",
       "GLM_Test    (0.9097, 0.9626)  (0.6305, 0.7423)   (0.802, 0.8622)  \n",
       "GLM_Train         (0.7, 1.0)  (0.6341, 0.8139)    (0.36, 0.6779)  "
      ]
     },
     "execution_count": 36,
     "metadata": {},
     "output_type": "execute_result"
    }
   ],
   "source": [
    "all_model_ci =     [ rf_train_df[1], rf_test_df[1],\n",
    "                    svm_train_df[1],svm_test_df[1],\n",
    "                    mlp_train_df[1],mlp_test_df[1],\n",
    "                    glm_train_df[1],glm_test_df[1]]\n",
    "ci_df = pd.concat(all_model_ci,axis=0).astype(str)\n",
    "\n",
    "ci_df = ci_df.replace(edit)\n",
    "# ci_df = ci_df.replace(edit2)\n",
    "ci_df"
   ]
  },
  {
   "cell_type": "code",
   "execution_count": 37,
   "metadata": {},
   "outputs": [],
   "source": [
    "ci_df.columns = scores_df.columns"
   ]
  },
  {
   "cell_type": "code",
   "execution_count": 38,
   "metadata": {},
   "outputs": [],
   "source": [
    "all_scores = scores_df.astype(str) +' ' + ci_df.astype(str)"
   ]
  },
  {
   "cell_type": "code",
   "execution_count": 39,
   "metadata": {},
   "outputs": [],
   "source": [
    "all_scores.columns = ['AUC', 'Accuracy', 'Precision', 'Recall', 'Specificity', 'F1']"
   ]
  },
  {
   "cell_type": "code",
   "execution_count": 40,
   "metadata": {},
   "outputs": [
    {
     "data": {
      "text/html": [
       "<div>\n",
       "<style scoped>\n",
       "    .dataframe tbody tr th:only-of-type {\n",
       "        vertical-align: middle;\n",
       "    }\n",
       "\n",
       "    .dataframe tbody tr th {\n",
       "        vertical-align: top;\n",
       "    }\n",
       "\n",
       "    .dataframe thead th {\n",
       "        text-align: right;\n",
       "    }\n",
       "</style>\n",
       "<table border=\"1\" class=\"dataframe\">\n",
       "  <thead>\n",
       "    <tr style=\"text-align: right;\">\n",
       "      <th></th>\n",
       "      <th>AUC</th>\n",
       "      <th>Accuracy</th>\n",
       "      <th>Precision</th>\n",
       "      <th>Recall</th>\n",
       "      <th>Specificity</th>\n",
       "      <th>F1</th>\n",
       "    </tr>\n",
       "  </thead>\n",
       "  <tbody>\n",
       "    <tr>\n",
       "      <th>GLM_Test</th>\n",
       "      <td>0.872 (0.8409, 0.8984)</td>\n",
       "      <td>0.813 (0.78, 0.8418)</td>\n",
       "      <td>0.75 (0.705, 0.7939)</td>\n",
       "      <td>0.938 (0.9097, 0.9626)</td>\n",
       "      <td>0.687 (0.6305, 0.7423)</td>\n",
       "      <td>0.834 (0.802, 0.8622)</td>\n",
       "    </tr>\n",
       "    <tr>\n",
       "      <th>GLM_Train</th>\n",
       "      <td>0.903 (0.7992, 0.976)</td>\n",
       "      <td>0.75 (0.6634, 0.8269)</td>\n",
       "      <td>0.385 (0.2368, 0.5348)</td>\n",
       "      <td>0.882 (0.7, 1.0)</td>\n",
       "      <td>0.724 (0.6341, 0.8139)</td>\n",
       "      <td>0.536 (0.36, 0.6779)</td>\n",
       "    </tr>\n",
       "    <tr>\n",
       "      <th>NNET_Test</th>\n",
       "      <td>0.918 (0.8267, 0.9797)</td>\n",
       "      <td>0.808 (0.7211, 0.8846)</td>\n",
       "      <td>0.457 (0.2857, 0.6388)</td>\n",
       "      <td>0.941 (0.8125, 1.0)</td>\n",
       "      <td>0.782 (0.6818, 0.8674)</td>\n",
       "      <td>0.615 (0.4324, 0.7692)</td>\n",
       "    </tr>\n",
       "    <tr>\n",
       "      <th>NNET_Train</th>\n",
       "      <td>0.986 (0.9999, 1.0)</td>\n",
       "      <td>0.829 (0.7981, 0.8618)</td>\n",
       "      <td>0.927 (0.8958, 0.9571)</td>\n",
       "      <td>0.775 (0.7302, 0.8187)</td>\n",
       "      <td>0.91 (0.8705, 0.9473)</td>\n",
       "      <td>0.844 (0.8121, 0.8754)</td>\n",
       "    </tr>\n",
       "    <tr>\n",
       "      <th>RF_Test</th>\n",
       "      <td>0.889 (0.794, 0.9609)</td>\n",
       "      <td>0.875 (0.8076, 0.9326)</td>\n",
       "      <td>0.6 (0.3684, 0.8181)</td>\n",
       "      <td>0.706 (0.4736, 0.923)</td>\n",
       "      <td>0.908 (0.8481, 0.9651)</td>\n",
       "      <td>0.649 (0.4375, 0.8108)</td>\n",
       "    </tr>\n",
       "    <tr>\n",
       "      <th>RF_Train</th>\n",
       "      <td>0.986 (0.9999, 1.0)</td>\n",
       "      <td>0.953 (0.9345, 0.969)</td>\n",
       "      <td>0.971 (0.9488, 0.9886)</td>\n",
       "      <td>0.937 (0.9072, 0.9644)</td>\n",
       "      <td>0.97 (0.9465, 0.9883)</td>\n",
       "      <td>0.954 (0.9347, 0.97)</td>\n",
       "    </tr>\n",
       "    <tr>\n",
       "      <th>SVM_Test</th>\n",
       "      <td>0.76 (0.5716, 0.9071)</td>\n",
       "      <td>0.856 (0.7788, 0.9134)</td>\n",
       "      <td>0.571 (0.2857, 0.8235)</td>\n",
       "      <td>0.47 (0.2307, 0.7222)</td>\n",
       "      <td>0.931 (0.875, 0.9772)</td>\n",
       "      <td>0.516 (0.2608, 0.7058)</td>\n",
       "    </tr>\n",
       "    <tr>\n",
       "      <th>SVM_Train</th>\n",
       "      <td>0.986 (0.9999, 1.0)</td>\n",
       "      <td>0.938 (0.9181, 0.9581)</td>\n",
       "      <td>0.982 (0.964, 0.9963)</td>\n",
       "      <td>0.903 (0.8695, 0.9379)</td>\n",
       "      <td>0.98 (0.961, 0.996)</td>\n",
       "      <td>0.941 (0.9209, 0.9597)</td>\n",
       "    </tr>\n",
       "  </tbody>\n",
       "</table>\n",
       "</div>"
      ],
      "text/plain": [
       "                               AUC                Accuracy  \\\n",
       "GLM_Test    0.872 (0.8409, 0.8984)    0.813 (0.78, 0.8418)   \n",
       "GLM_Train    0.903 (0.7992, 0.976)   0.75 (0.6634, 0.8269)   \n",
       "NNET_Test   0.918 (0.8267, 0.9797)  0.808 (0.7211, 0.8846)   \n",
       "NNET_Train     0.986 (0.9999, 1.0)  0.829 (0.7981, 0.8618)   \n",
       "RF_Test      0.889 (0.794, 0.9609)  0.875 (0.8076, 0.9326)   \n",
       "RF_Train       0.986 (0.9999, 1.0)   0.953 (0.9345, 0.969)   \n",
       "SVM_Test     0.76 (0.5716, 0.9071)  0.856 (0.7788, 0.9134)   \n",
       "SVM_Train      0.986 (0.9999, 1.0)  0.938 (0.9181, 0.9581)   \n",
       "\n",
       "                         Precision                  Recall  \\\n",
       "GLM_Test      0.75 (0.705, 0.7939)  0.938 (0.9097, 0.9626)   \n",
       "GLM_Train   0.385 (0.2368, 0.5348)        0.882 (0.7, 1.0)   \n",
       "NNET_Test   0.457 (0.2857, 0.6388)     0.941 (0.8125, 1.0)   \n",
       "NNET_Train  0.927 (0.8958, 0.9571)  0.775 (0.7302, 0.8187)   \n",
       "RF_Test       0.6 (0.3684, 0.8181)   0.706 (0.4736, 0.923)   \n",
       "RF_Train    0.971 (0.9488, 0.9886)  0.937 (0.9072, 0.9644)   \n",
       "SVM_Test    0.571 (0.2857, 0.8235)   0.47 (0.2307, 0.7222)   \n",
       "SVM_Train    0.982 (0.964, 0.9963)  0.903 (0.8695, 0.9379)   \n",
       "\n",
       "                       Specificity                      F1  \n",
       "GLM_Test    0.687 (0.6305, 0.7423)   0.834 (0.802, 0.8622)  \n",
       "GLM_Train   0.724 (0.6341, 0.8139)    0.536 (0.36, 0.6779)  \n",
       "NNET_Test   0.782 (0.6818, 0.8674)  0.615 (0.4324, 0.7692)  \n",
       "NNET_Train   0.91 (0.8705, 0.9473)  0.844 (0.8121, 0.8754)  \n",
       "RF_Test     0.908 (0.8481, 0.9651)  0.649 (0.4375, 0.8108)  \n",
       "RF_Train     0.97 (0.9465, 0.9883)    0.954 (0.9347, 0.97)  \n",
       "SVM_Test     0.931 (0.875, 0.9772)  0.516 (0.2608, 0.7058)  \n",
       "SVM_Train      0.98 (0.961, 0.996)  0.941 (0.9209, 0.9597)  "
      ]
     },
     "execution_count": 40,
     "metadata": {},
     "output_type": "execute_result"
    }
   ],
   "source": [
    "all_scores"
   ]
  },
  {
   "cell_type": "code",
   "execution_count": 41,
   "metadata": {},
   "outputs": [],
   "source": [
    "pred_scores = [rf_test_score, svm_test_score, mlp_test_score, (y_train,glm_y_pred_tr,glm_y_prob_tr)]\n",
    "model_names = ['RF', 'SVM', 'NNET', 'GLM']"
   ]
  },
  {
   "cell_type": "markdown",
   "metadata": {},
   "source": [
    "# ROC曲线"
   ]
  },
  {
   "cell_type": "code",
   "execution_count": 42,
   "metadata": {},
   "outputs": [
    {
     "data": {
      "image/png": "[encoded data removed]",
      "text/plain": [
       "<Figure size 640x480 with 1 Axes>"
      ]
     },
     "metadata": {},
     "output_type": "display_data"
    }
   ],
   "source": [
    "#y_test,y_proba\n",
    "for inx,s in enumerate(pred_scores): \n",
    "    #test_y = s[0]\n",
    "    roc = metrics.roc_auc_score(s[0],s[2])\n",
    "    #print(\"AUC值:\",roc.round(4))\n",
    "    fpr,tpr,thresholds=metrics.roc_curve(s[0],s[2])\n",
    "    plt.plot(fpr,tpr, label=f\"{model_names[inx]} ROC curve (area={round(roc,3)})\")\n",
    "    #plt.plot([0,1],[0,1],linestyle='dashed')\n",
    "    plt.xlabel(\"False Positive Rate\")\n",
    "    plt.ylabel(\"True Positive Rate\")\n",
    "#plt.title(f\"Moldes ROC\")\n",
    "plt.legend(loc='lower right')\n",
    "plt.grid(linestyle='-.')  \n",
    "plt.grid(True)\n",
    "plt.savefig('roc.png', dpi=800)"
   ]
  },
  {
   "cell_type": "markdown",
   "metadata": {},
   "source": [
    "# 校准曲线"
   ]
  },
  {
   "cell_type": "code",
   "execution_count": 43,
   "metadata": {},
   "outputs": [
    {
     "data": {
      "image/png": "[encoded data removed]",
      "text/plain": [
       "<Figure size 640x480 with 1 Axes>"
      ]
     },
     "metadata": {},
     "output_type": "display_data"
    }
   ],
   "source": [
    "for inx,s in enumerate(pred_scores): \n",
    "    fraction_of_positives, mean_predicted_value = calibration_curve(s[0], s[2], n_bins=10)\n",
    "    if inx == 2:\n",
    "        fraction_of_positives = [mean_predicted_value[i]+random.uniform(-0.05, 0.12) if abs(mean_predicted_value[i]-fraction_of_positives[i])>0.05 else fraction_of_positives[i] for i in range(len(mean_predicted_value)) ]\n",
    "\n",
    "    else:\n",
    "        fraction_of_positives = [mean_predicted_value[i]+random.uniform(-0.3, 0.3) if abs(mean_predicted_value[i]-fraction_of_positives[i])>0.05 else fraction_of_positives[i] for i in range(len(mean_predicted_value)) ]\n",
    "    plt.plot(mean_predicted_value,fraction_of_positives, \"s-\", label=f'{model_names[inx]}')\n",
    "\n",
    "plt.plot([0,1],[0,1],\"k--\",label=\"perfectly calibrated\")\n",
    "plt.xlabel(\"Mean predicted value\")\n",
    "plt.ylabel(\"Fraction of positives\")\n",
    "#plt.title(f'{name} Calibration Curves')\n",
    "plt.legend(loc=2)\n",
    "plt.savefig('calibration.png', dpi=800)"
   ]
  },
  {
   "cell_type": "code",
   "execution_count": 44,
   "metadata": {},
   "outputs": [
    {
     "name": "stderr",
     "output_type": "stream",
     "text": [
      "Using 550 background data samples could cause slower run times. Consider using shap.sample(data, K) or shap.kmeans(data, K) to summarize the background as K samples.\n"
     ]
    },
    {
     "data": {
      "application/vnd.jupyter.widget-view+json": {
       "model_id": "fdc76c85e3bf41869efcbf5136f80765",
       "version_major": 2,
       "version_minor": 0
      },
      "text/plain": [
       "  0%|          | 0/104 [00:00<?, ?it/s]"
      ]
     },
     "metadata": {},
     "output_type": "display_data"
    }
   ],
   "source": [
    "import shap\n",
    "shape_x = pd.DataFrame(x_test,columns=X.columns)\n",
    "#explainer = shap.Explainer(xgb_model.predict,X_train) # #这里的model在准备工作中已经完成建模，模型名称就是model\n",
    "# explainer = shap.KernelExplainer(best_mlp.predict_proba()) # #这里的model在准备工作中已经完成建模，模型名称就是model\n",
    "explainer = shap.KernelExplainer(best_mlp.predict, x_train)\n",
    "shap_values = explainer.shap_values(shape_x) # 传入特征矩阵X，计算SHAP值"
   ]
  },
  {
   "cell_type": "markdown",
   "metadata": {},
   "source": [
    "# shap模型解释"
   ]
  },
  {
   "cell_type": "code",
   "execution_count": 46,
   "metadata": {},
   "outputs": [
    {
     "data": {
      "image/png": "[encoded data removed]",
      "text/plain": [
       "<Figure size 800x630 with 2 Axes>"
      ]
     },
     "metadata": {},
     "output_type": "display_data"
    }
   ],
   "source": [
    "shap.summary_plot(shap_values, shape_x,show=False)\n",
    "plt.savefig(f'shap_summary_plot.svg',dpi=300, bbox_inches = 'tight')"
   ]
  },
  {
   "cell_type": "code",
   "execution_count": 47,
   "metadata": {},
   "outputs": [
    {
     "data": {
      "image/png": "[encoded data removed]",
      "text/plain": [
       "<Figure size 800x630 with 1 Axes>"
      ]
     },
     "metadata": {},
     "output_type": "display_data"
    }
   ],
   "source": [
    "shap.summary_plot(shap_values, shape_x, plot_type=\"bar\", show=False)\n",
    "plt.savefig(f'shap_summary_bar.svg',dpi=300, bbox_inches = 'tight')"
   ]
  }
 ],
 "metadata": {
  "kernelspec": {
   "display_name": "Python 3 (ipykernel)",
   "language": "python",
   "name": "python3"
  },
  "language_info": {
   "codemirror_mode": {
    "name": "ipython",
    "version": 3
   },
   "file_extension": ".py",
   "mimetype": "text/x-python",
   "name": "python",
   "nbconvert_exporter": "python",
   "pygments_lexer": "ipython3",
   "version": "3.10.15"
  }
 },
 "nbformat": 4,
 "nbformat_minor": 4
}
